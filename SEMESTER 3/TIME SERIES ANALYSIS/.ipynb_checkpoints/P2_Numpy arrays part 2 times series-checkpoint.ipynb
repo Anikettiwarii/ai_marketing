{
 "cells": [
  {
   "cell_type": "code",
   "execution_count": 1,
   "id": "a573c8a0",
   "metadata": {},
   "outputs": [],
   "source": [
    "import numpy as np"
   ]
  },
  {
   "cell_type": "markdown",
   "id": "ac05e1ef",
   "metadata": {},
   "source": [
    "## Random Library Built into numpy"
   ]
  },
  {
   "cell_type": "code",
   "execution_count": 6,
   "id": "895c70a9",
   "metadata": {},
   "outputs": [
    {
     "data": {
      "text/plain": [
       "array([[0.83700192, 0.96807993, 0.21835899, 0.82994481, 0.12096728,\n",
       "        0.61911076, 0.78414196, 0.36895087, 0.47188323, 0.98849651]])"
      ]
     },
     "execution_count": 6,
     "metadata": {},
     "output_type": "execute_result"
    }
   ],
   "source": [
    "np.random.rand(1,10)"
   ]
  },
  {
   "cell_type": "markdown",
   "id": "a167e135",
   "metadata": {},
   "source": [
    "### Generate a random number from a UNIFROM calculation graph betn 0 and 1"
   ]
  },
  {
   "cell_type": "code",
   "execution_count": 7,
   "id": "37f97d4a",
   "metadata": {},
   "outputs": [
    {
     "data": {
      "text/plain": [
       "array([0.78825387])"
      ]
     },
     "execution_count": 7,
     "metadata": {},
     "output_type": "execute_result"
    }
   ],
   "source": [
    "np.random.rand(1)"
   ]
  },
  {
   "cell_type": "code",
   "execution_count": 14,
   "id": "a51a4251",
   "metadata": {},
   "outputs": [
    {
     "data": {
      "text/plain": [
       "array([0.91807285, 0.07868662])"
      ]
     },
     "execution_count": 14,
     "metadata": {},
     "output_type": "execute_result"
    }
   ],
   "source": [
    "np.random.rand(2)"
   ]
  },
  {
   "cell_type": "code",
   "execution_count": 16,
   "id": "4bf59091",
   "metadata": {},
   "outputs": [
    {
     "data": {
      "text/plain": [
       "array([[0.40210495, 0.24707934, 0.43119971, 0.92914819, 0.3599244 ],\n",
       "       [0.03709521, 0.441319  , 0.4605108 , 0.47316549, 0.45008126],\n",
       "       [0.7435094 , 0.60378705, 0.94225329, 0.62834028, 0.3478378 ],\n",
       "       [0.73354616, 0.93504599, 0.52080951, 0.34958663, 0.05402245],\n",
       "       [0.55911563, 0.3127067 , 0.25519336, 0.36483434, 0.66326989]])"
      ]
     },
     "execution_count": 16,
     "metadata": {},
     "output_type": "execute_result"
    }
   ],
   "source": [
    "np.random.rand(5,5)"
   ]
  },
  {
   "cell_type": "code",
   "execution_count": 17,
   "id": "7aca87e1",
   "metadata": {},
   "outputs": [
    {
     "data": {
      "text/plain": [
       "array([[0.18612792, 0.30775736, 0.97685259],\n",
       "       [0.07708408, 0.23319158, 0.42325234]])"
      ]
     },
     "execution_count": 17,
     "metadata": {},
     "output_type": "execute_result"
    }
   ],
   "source": [
    "np.random.rand(2,3)"
   ]
  },
  {
   "cell_type": "markdown",
   "id": "65883b39",
   "metadata": {},
   "source": [
    "### Generate a random number form  from a STANDARD NORMAL DISTRIBUTION "
   ]
  },
  {
   "cell_type": "code",
   "execution_count": 19,
   "id": "8ce97cb2",
   "metadata": {},
   "outputs": [
    {
     "data": {
      "text/plain": [
       "-0.6289733826601165"
      ]
     },
     "execution_count": 19,
     "metadata": {},
     "output_type": "execute_result"
    }
   ],
   "source": [
    "np.random.normal()"
   ]
  },
  {
   "cell_type": "code",
   "execution_count": 24,
   "id": "c0387354",
   "metadata": {},
   "outputs": [
    {
     "data": {
      "text/plain": [
       "array([0.93612673])"
      ]
     },
     "execution_count": 24,
     "metadata": {},
     "output_type": "execute_result"
    }
   ],
   "source": [
    "np.random.randn(1)"
   ]
  },
  {
   "cell_type": "markdown",
   "id": "29ca9d54",
   "metadata": {},
   "source": [
    "## Write a program which draws 1000 numbers from standard normal distribution, create a dictionary to check how many times number occurred in the bins (0-0.5) (0.5-1), (1, inf), (-0.5,0), (-1,-0.5), (-inf, 1)\n"
   ]
  },
  {
   "cell_type": "code",
   "execution_count": 38,
   "id": "bd3ccc53",
   "metadata": {},
   "outputs": [],
   "source": [
    "import numpy as np\n",
    "\n",
    "numbers = np.random.randn(1000)\n",
    "\n",
    "\n",
    "dict = { \"(0, 0.5)\": 0, \"(0.5, 1)\": 0, \"(1, inf)\": 0, \"(-0.5, 0)\": 0, \"(-1, -0.5)\": 0, \"(-inf, -1)\": 0}\n",
    "\n",
    "\n",
    "for number in numbers:\n",
    "    if 0 < number <= 0.5:\n",
    "        dict[\"(0, 0.5)\"] += 1\n",
    "    elif 0.5 < number <= 1:\n",
    "        dict[\"(0.5, 1)\"] += 1\n",
    "    elif number > 1:\n",
    "        dict[\"(1, inf)\"] += 1\n",
    "    elif -0.5 < number <= 0:\n",
    "        dict[\"(-0.5, 0)\"] += 1\n",
    "    elif -1 < number <= -0.5:\n",
    "        dict[\"(-1, -0.5)\"] += 1\n",
    "    else:\n",
    "        dict[\"(-inf, -1)\"] += 1\n"
   ]
  },
  {
   "cell_type": "code",
   "execution_count": 40,
   "id": "8602a2a8",
   "metadata": {},
   "outputs": [],
   "source": [
    "# Question: What is the difference between normal dist and standard normal dist.?"
   ]
  },
  {
   "cell_type": "code",
   "execution_count": 1,
   "id": "d7ea1134",
   "metadata": {},
   "outputs": [],
   "source": [
    "# seed"
   ]
  },
  {
   "cell_type": "code",
   "execution_count": 2,
   "id": "fc3c7384",
   "metadata": {},
   "outputs": [],
   "source": [
    "# array reshape"
   ]
  },
  {
   "cell_type": "code",
   "execution_count": 4,
   "id": "6738f40d",
   "metadata": {},
   "outputs": [],
   "source": [
    "a = 5,5"
   ]
  },
  {
   "cell_type": "code",
   "execution_count": 5,
   "id": "ebb48171",
   "metadata": {},
   "outputs": [
    {
     "data": {
      "text/plain": [
       "tuple"
      ]
     },
     "execution_count": 5,
     "metadata": {},
     "output_type": "execute_result"
    }
   ],
   "source": [
    "type(a)"
   ]
  },
  {
   "cell_type": "code",
   "execution_count": 8,
   "id": "ec4f2629",
   "metadata": {},
   "outputs": [],
   "source": [
    "import numpy as np"
   ]
  },
  {
   "cell_type": "code",
   "execution_count": 9,
   "id": "c5a9945c",
   "metadata": {},
   "outputs": [],
   "source": [
    "arr = np.arange(25)"
   ]
  },
  {
   "cell_type": "code",
   "execution_count": 11,
   "id": "74072631",
   "metadata": {},
   "outputs": [
    {
     "data": {
      "text/plain": [
       "array([ 0,  1,  2,  3,  4,  5,  6,  7,  8,  9, 10, 11, 12, 13, 14, 15, 16,\n",
       "       17, 18, 19, 20, 21, 22, 23, 24])"
      ]
     },
     "execution_count": 11,
     "metadata": {},
     "output_type": "execute_result"
    }
   ],
   "source": [
    "arr"
   ]
  },
  {
   "cell_type": "code",
   "execution_count": 10,
   "id": "8428f9f1",
   "metadata": {},
   "outputs": [
    {
     "data": {
      "text/plain": [
       "array([[ 0,  1,  2,  3,  4],\n",
       "       [ 5,  6,  7,  8,  9],\n",
       "       [10, 11, 12, 13, 14],\n",
       "       [15, 16, 17, 18, 19],\n",
       "       [20, 21, 22, 23, 24]])"
      ]
     },
     "execution_count": 10,
     "metadata": {},
     "output_type": "execute_result"
    }
   ],
   "source": [
    "arr.reshape(5,5)"
   ]
  },
  {
   "cell_type": "code",
   "execution_count": 13,
   "id": "87b0bf0a",
   "metadata": {},
   "outputs": [
    {
     "ename": "ValueError",
     "evalue": "cannot reshape array of size 25 into shape (5,3)",
     "output_type": "error",
     "traceback": [
      "\u001b[0;31m---------------------------------------------------------------------------\u001b[0m",
      "\u001b[0;31mValueError\u001b[0m                                Traceback (most recent call last)",
      "Cell \u001b[0;32mIn[13], line 1\u001b[0m\n\u001b[0;32m----> 1\u001b[0m arr\u001b[38;5;241m.\u001b[39mreshape(\u001b[38;5;241m5\u001b[39m,\u001b[38;5;241m3\u001b[39m)\n",
      "\u001b[0;31mValueError\u001b[0m: cannot reshape array of size 25 into shape (5,3)"
     ]
    }
   ],
   "source": [
    "arr.reshape(5,3)    # as we have 25 elements in our array and we cannot reshape it into 15 elemnts i.e. 5,3"
   ]
  },
  {
   "cell_type": "code",
   "execution_count": 14,
   "id": "d4fba6b8",
   "metadata": {},
   "outputs": [
    {
     "data": {
      "text/plain": [
       "24"
      ]
     },
     "execution_count": 14,
     "metadata": {},
     "output_type": "execute_result"
    }
   ],
   "source": [
    "arr.max()"
   ]
  },
  {
   "cell_type": "code",
   "execution_count": 15,
   "id": "1fdcabb0",
   "metadata": {},
   "outputs": [
    {
     "data": {
      "text/plain": [
       "0"
      ]
     },
     "execution_count": 15,
     "metadata": {},
     "output_type": "execute_result"
    }
   ],
   "source": [
    "arr.min()"
   ]
  },
  {
   "cell_type": "code",
   "execution_count": 16,
   "id": "41b9a8cb",
   "metadata": {},
   "outputs": [
    {
     "data": {
      "text/plain": [
       "24"
      ]
     },
     "execution_count": 16,
     "metadata": {},
     "output_type": "execute_result"
    }
   ],
   "source": [
    "arr.argmax()"
   ]
  },
  {
   "cell_type": "code",
   "execution_count": 18,
   "id": "00ae2879",
   "metadata": {},
   "outputs": [
    {
     "data": {
      "text/plain": [
       "dtype('int64')"
      ]
     },
     "execution_count": 18,
     "metadata": {},
     "output_type": "execute_result"
    }
   ],
   "source": [
    "arr.dtype"
   ]
  },
  {
   "cell_type": "code",
   "execution_count": null,
   "id": "f8f5aa1f",
   "metadata": {},
   "outputs": [],
   "source": []
  }
 ],
 "metadata": {
  "kernelspec": {
   "display_name": "Python 3 (ipykernel)",
   "language": "python",
   "name": "python3"
  },
  "language_info": {
   "codemirror_mode": {
    "name": "ipython",
    "version": 3
   },
   "file_extension": ".py",
   "mimetype": "text/x-python",
   "name": "python",
   "nbconvert_exporter": "python",
   "pygments_lexer": "ipython3",
   "version": "3.11.7"
  }
 },
 "nbformat": 4,
 "nbformat_minor": 5
}
