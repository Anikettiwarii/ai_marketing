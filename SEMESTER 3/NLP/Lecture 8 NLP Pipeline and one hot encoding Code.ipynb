{
 "cells": [
  {
   "cell_type": "code",
   "execution_count": 32,
   "id": "71829400",
   "metadata": {},
   "outputs": [],
   "source": [
    "tweet_sample = \"Check out our latest blog post on AI advancements! <a href='http://example.com'>Read more here</a> 🚀 #AI #TechUpdate <b>Innovation is the key to the future</b>! Make sure to follow @username for more updates on AI and technology. :) 😊\"\n"
   ]
  },
  {
   "cell_type": "code",
   "execution_count": 40,
   "id": "8245bd80",
   "metadata": {},
   "outputs": [],
   "source": [
    "def processRow(row):\n",
    "    import re\n",
    "    from textblob import TextBlob\n",
    "    from nltk.corpus import stopwords\n",
    "    from nltk.stem import PorterStemmer\n",
    "    from textblob import Word\n",
    "    from nltk.util import ngrams\n",
    "    from wordcloud import WordCloud, STOPWORDS\n",
    "    from nltk.tokenize import word_tokenize\n",
    "\n",
    "    tweet = row\n",
    "    tweet.lower()\n",
    "    \n",
    "    tweet = re.sub(r'(\\\\u[0-9A-Fa-f]+)', '', tweet)  \n",
    "    tweet = re.sub(r'[^\\x00-\\x7f]', '', tweet)  \n",
    "    # convert any url to URL\n",
    "    tweet = re.sub(r'((www\\.[^\\s]+)|(https?://[^\\s]+))', 'URL', tweet)\n",
    "    # convert any @username to \"AT_USER\"\n",
    "    tweet = re.sub('@[^\\s]+','AT_USER',tweet)\n",
    "    # removing additional white spaces\n",
    "    tweet = re.sub('[\\s]+',' ',tweet)\n",
    "    tweet = re.sub('[\\n]+',' ',tweet)\n",
    "\n",
    "    # Remove non-alphanumeric symbols and white spaces\n",
    "    tweet = re.sub(r'[^\\w\\s]', '', tweet)  # Removes everything except word characters and spaces\n",
    "\n",
    "    # Remove hashtags in front of words\n",
    "    tweet = re.sub(r'#([^\\s]+)', r'\\1', tweet)  # Removes the hashtag but keeps the word\n",
    "    \n",
    "    #Replace #word with word\n",
    "    tweet = re.sub(r'#([^\\s]+)', r'\\1', tweet)\n",
    "\n",
    "    # remove :( or :)\n",
    "    tweet = tweet.replace(':)',' ')\n",
    "    tweet = tweet.replace(':(',' ')\n",
    "    # remove numbers\n",
    "    tweet = ''.join([i for i in tweet if not i.isdigit()])\n",
    "    # remove multiple exclamation\n",
    "    tweet = re.sub(r\"(\\!)\\1+\",' ',tweet)\n",
    "    # remove multiple Question marks\n",
    "    tweet = re.sub(r\"(\\?)\\1+\",' ',tweet)\n",
    "    # remove multistop\n",
    "    tweet = re.sub(r\"(\\.)\\1+\",' ',tweet)\n",
    "    \n",
    "    #lemma\n",
    "    \n",
    "    from textblob import Word\n",
    "    \n",
    "    tweet = \" \".join([Word(word).lemmatize() for word in tweet.split()])\n",
    "    \n",
    "    \n",
    "    # stemmer\n",
    "    \n",
    "    st = PorterStemmer()\n",
    "    tweet = \" \".join([st.stem(word) for word in tweet.split()])\n",
    "    \n",
    "    # removes emoticons from the text\n",
    "    \n",
    "    \n",
    "    # copy paste the code from claaroom\n",
    "    \n",
    "    # Removes emoticons from text\n",
    "    #tweet = re.sub(r'[:;=D=)D=):-)|\\(=-/:=D=P|XD|xD|X-p|^_^|:-*|\\^|\\*_*/:O|=O|:-O|O/O|o_O|o_o|:-@|=/|:X|-_-\\|^_^|=-|:L|:V|', \"\", tweet)\n",
    "    \n",
    "    \n",
    "    \n",
    "    \n",
    "    \n",
    "    \n",
    "    \n",
    "    \n",
    "    \n",
    "    tweet = tweet.strip('\\\"')\n",
    "    row = tweet \n",
    "    return row"
   ]
  },
  {
   "cell_type": "code",
   "execution_count": 41,
   "id": "c17ef9f1",
   "metadata": {},
   "outputs": [
    {
     "data": {
      "text/plain": [
       "'check out our latest blog post on ai advanc a hrefurl more herea ai techupd binnov is the key to the futureb make sure to follow at_us for more updat on ai and technolog'"
      ]
     },
     "execution_count": 41,
     "metadata": {},
     "output_type": "execute_result"
    }
   ],
   "source": [
    "processRow(tweet_sample)"
   ]
  },
  {
   "cell_type": "code",
   "execution_count": null,
   "id": "1275411f",
   "metadata": {},
   "outputs": [],
   "source": [
    "# NLP One hot encoding\n"
   ]
  },
  {
   "cell_type": "code",
   "execution_count": 51,
   "id": "2ef05676",
   "metadata": {},
   "outputs": [
    {
     "data": {
      "text/html": [
       "<div>\n",
       "<style scoped>\n",
       "    .dataframe tbody tr th:only-of-type {\n",
       "        vertical-align: middle;\n",
       "    }\n",
       "\n",
       "    .dataframe tbody tr th {\n",
       "        vertical-align: top;\n",
       "    }\n",
       "\n",
       "    .dataframe thead th {\n",
       "        text-align: right;\n",
       "    }\n",
       "</style>\n",
       "<table border=\"1\" class=\"dataframe\">\n",
       "  <thead>\n",
       "    <tr style=\"text-align: right;\">\n",
       "      <th></th>\n",
       "      <th>I</th>\n",
       "      <th>NLP.</th>\n",
       "      <th>am</th>\n",
       "      <th>learning</th>\n",
       "    </tr>\n",
       "  </thead>\n",
       "  <tbody>\n",
       "    <tr>\n",
       "      <th>0</th>\n",
       "      <td>1</td>\n",
       "      <td>0</td>\n",
       "      <td>0</td>\n",
       "      <td>0</td>\n",
       "    </tr>\n",
       "    <tr>\n",
       "      <th>1</th>\n",
       "      <td>0</td>\n",
       "      <td>0</td>\n",
       "      <td>1</td>\n",
       "      <td>0</td>\n",
       "    </tr>\n",
       "    <tr>\n",
       "      <th>2</th>\n",
       "      <td>0</td>\n",
       "      <td>0</td>\n",
       "      <td>0</td>\n",
       "      <td>1</td>\n",
       "    </tr>\n",
       "    <tr>\n",
       "      <th>3</th>\n",
       "      <td>0</td>\n",
       "      <td>1</td>\n",
       "      <td>0</td>\n",
       "      <td>0</td>\n",
       "    </tr>\n",
       "  </tbody>\n",
       "</table>\n",
       "</div>"
      ],
      "text/plain": [
       "   I  NLP.  am  learning\n",
       "0  1     0   0         0\n",
       "1  0     0   1         0\n",
       "2  0     0   0         1\n",
       "3  0     1   0         0"
      ]
     },
     "execution_count": 51,
     "metadata": {},
     "output_type": "execute_result"
    }
   ],
   "source": [
    "Text = \"I am learning NLP.\"\n",
    "import pandas as pd\n",
    "\n",
    "pd.get_dummies(Text.split()).astype(int)"
   ]
  },
  {
   "cell_type": "code",
   "execution_count": 52,
   "id": "bf0ecd03",
   "metadata": {},
   "outputs": [
    {
     "data": {
      "text/html": [
       "<div>\n",
       "<style scoped>\n",
       "    .dataframe tbody tr th:only-of-type {\n",
       "        vertical-align: middle;\n",
       "    }\n",
       "\n",
       "    .dataframe tbody tr th {\n",
       "        vertical-align: top;\n",
       "    }\n",
       "\n",
       "    .dataframe thead th {\n",
       "        text-align: right;\n",
       "    }\n",
       "</style>\n",
       "<table border=\"1\" class=\"dataframe\">\n",
       "  <thead>\n",
       "    <tr style=\"text-align: right;\">\n",
       "      <th></th>\n",
       "      <th>I</th>\n",
       "      <th>am</th>\n",
       "      <th>learning</th>\n",
       "      <th>nlp</th>\n",
       "    </tr>\n",
       "  </thead>\n",
       "  <tbody>\n",
       "    <tr>\n",
       "      <th>0</th>\n",
       "      <td>1</td>\n",
       "      <td>0</td>\n",
       "      <td>0</td>\n",
       "      <td>0</td>\n",
       "    </tr>\n",
       "    <tr>\n",
       "      <th>1</th>\n",
       "      <td>0</td>\n",
       "      <td>1</td>\n",
       "      <td>0</td>\n",
       "      <td>0</td>\n",
       "    </tr>\n",
       "    <tr>\n",
       "      <th>2</th>\n",
       "      <td>0</td>\n",
       "      <td>0</td>\n",
       "      <td>1</td>\n",
       "      <td>0</td>\n",
       "    </tr>\n",
       "    <tr>\n",
       "      <th>3</th>\n",
       "      <td>0</td>\n",
       "      <td>0</td>\n",
       "      <td>0</td>\n",
       "      <td>1</td>\n",
       "    </tr>\n",
       "  </tbody>\n",
       "</table>\n",
       "</div>"
      ],
      "text/plain": [
       "   I  am  learning  nlp\n",
       "0  1   0         0    0\n",
       "1  0   1         0    0\n",
       "2  0   0         1    0\n",
       "3  0   0         0    1"
      ]
     },
     "execution_count": 52,
     "metadata": {},
     "output_type": "execute_result"
    }
   ],
   "source": [
    "Text = \"I am learning nlp\"\n",
    "import pandas as pd\n",
    "\n",
    "pd.get_dummies(Text.split()).astype(int)"
   ]
  },
  {
   "cell_type": "code",
   "execution_count": 49,
   "id": "06c5dd31",
   "metadata": {},
   "outputs": [],
   "source": [
    "from sklearn.feature_extraction.text import CountVectorizer"
   ]
  },
  {
   "cell_type": "code",
   "execution_count": 53,
   "id": "ecdd5e65",
   "metadata": {},
   "outputs": [
    {
     "name": "stdout",
     "output_type": "stream",
     "text": [
      "{'like': 3, 'nlp': 5, 'and': 0, 'will': 6, 'learn': 2, 'in': 1, 'months': 4}\n",
      "[[1 1 1 1 1 2 1]]\n"
     ]
    }
   ],
   "source": [
    "#text \n",
    "text = [\"I like NLP and I will learn NLP in 2 months \"]\n",
    "# create the transform \n",
    "vectorizer = CountVectorizer()\n",
    "#tokenizing \n",
    "vectorizer.fit(text)\n",
    "#encode document \n",
    "vector = vectorizer.transform(text)\n",
    "#summarizing & generating output \n",
    "print(vectorizer.vocabulary_)\n",
    "print(vector.toarray())"
   ]
  },
  {
   "cell_type": "code",
   "execution_count": null,
   "id": "574ced0b",
   "metadata": {},
   "outputs": [],
   "source": []
  }
 ],
 "metadata": {
  "kernelspec": {
   "display_name": "Python 3 (ipykernel)",
   "language": "python",
   "name": "python3"
  },
  "language_info": {
   "codemirror_mode": {
    "name": "ipython",
    "version": 3
   },
   "file_extension": ".py",
   "mimetype": "text/x-python",
   "name": "python",
   "nbconvert_exporter": "python",
   "pygments_lexer": "ipython3",
   "version": "3.11.7"
  }
 },
 "nbformat": 4,
 "nbformat_minor": 5
}
