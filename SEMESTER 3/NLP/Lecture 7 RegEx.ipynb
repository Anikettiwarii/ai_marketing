{
 "cells": [
  {
   "cell_type": "code",
   "execution_count": 3,
   "id": "98b7be4f",
   "metadata": {},
   "outputs": [],
   "source": [
    "import re"
   ]
  },
  {
   "cell_type": "code",
   "execution_count": 4,
   "id": "661bccec",
   "metadata": {},
   "outputs": [],
   "source": [
    "doc = \"For more details please mail us at: xyz@abc.com , pqr@mno.com\""
   ]
  },
  {
   "cell_type": "code",
   "execution_count": 5,
   "id": "bd179ea8",
   "metadata": {},
   "outputs": [],
   "source": [
    "addresses = re.findall(r'[\\w.-]+@[\\w.-]+', doc)"
   ]
  },
  {
   "cell_type": "code",
   "execution_count": 6,
   "id": "429f9892",
   "metadata": {},
   "outputs": [
    {
     "name": "stdout",
     "output_type": "stream",
     "text": [
      "xyz@abc.com\n",
      "pqr@mno.com\n"
     ]
    }
   ],
   "source": [
    "for address in addresses:\n",
    "    print(address)"
   ]
  },
  {
   "cell_type": "code",
   "execution_count": 7,
   "id": "6e326236",
   "metadata": {},
   "outputs": [],
   "source": [
    "doc = \"For more details please mail us at: xyz@abc.com , ptr@mno.com\""
   ]
  },
  {
   "cell_type": "code",
   "execution_count": 8,
   "id": "bb526537",
   "metadata": {},
   "outputs": [
    {
     "name": "stdout",
     "output_type": "stream",
     "text": [
      "pqr@mno.com\n"
     ]
    }
   ],
   "source": [
    "addresses = re.sub(r'([\\w.-]+@[\\w.-]+)', r'pqr@mno.com',doc)\n",
    "print(address)"
   ]
  },
  {
   "cell_type": "code",
   "execution_count": 9,
   "id": "1a29a7da",
   "metadata": {},
   "outputs": [
    {
     "name": "stdout",
     "output_type": "stream",
     "text": [
      "F\n",
      "o\n",
      "r\n",
      " \n",
      "m\n",
      "o\n",
      "r\n",
      "e\n",
      " \n",
      "d\n",
      "e\n",
      "t\n",
      "a\n",
      "i\n",
      "l\n",
      "s\n",
      " \n",
      "p\n",
      "l\n",
      "e\n",
      "a\n",
      "s\n",
      "e\n",
      " \n",
      "m\n",
      "a\n",
      "i\n",
      "l\n",
      " \n",
      "u\n",
      "s\n",
      " \n",
      "a\n",
      "t\n",
      ":\n",
      " \n",
      "p\n",
      "q\n",
      "r\n",
      "@\n",
      "m\n",
      "n\n",
      "o\n",
      ".\n",
      "c\n",
      "o\n",
      "m\n",
      " \n",
      ",\n",
      " \n",
      "p\n",
      "q\n",
      "r\n",
      "@\n",
      "m\n",
      "n\n",
      "o\n",
      ".\n",
      "c\n",
      "o\n",
      "m\n"
     ]
    }
   ],
   "source": [
    "for address in addresses:\n",
    "    print(address)"
   ]
  },
  {
   "cell_type": "code",
   "execution_count": 10,
   "id": "736adb7c",
   "metadata": {},
   "outputs": [
    {
     "name": "stdout",
     "output_type": "stream",
     "text": [
      "m\n"
     ]
    }
   ],
   "source": [
    "doc = \"For more details please mail us at: xyz@abc.com , ptr@mno.com\"\n",
    "addresses = re.sub(r'([\\w.-]+@[\\w.-]+)', r'pqr@mno.com',doc)\n",
    "print(address)"
   ]
  },
  {
   "cell_type": "code",
   "execution_count": 11,
   "id": "1cd87b2f",
   "metadata": {},
   "outputs": [
    {
     "name": "stdout",
     "output_type": "stream",
     "text": [
      "F\n",
      "o\n",
      "r\n",
      " \n",
      "m\n",
      "o\n",
      "r\n",
      "e\n",
      " \n",
      "d\n",
      "e\n",
      "t\n",
      "a\n",
      "i\n",
      "l\n",
      "s\n",
      " \n",
      "p\n",
      "l\n",
      "e\n",
      "a\n",
      "s\n",
      "e\n",
      " \n",
      "m\n",
      "a\n",
      "i\n",
      "l\n",
      " \n",
      "u\n",
      "s\n",
      " \n",
      "a\n",
      "t\n",
      ":\n",
      " \n",
      "p\n",
      "q\n",
      "r\n",
      "@\n",
      "m\n",
      "n\n",
      "o\n",
      ".\n",
      "c\n",
      "o\n",
      "m\n",
      " \n",
      ",\n",
      " \n",
      "p\n",
      "q\n",
      "r\n",
      "@\n",
      "m\n",
      "n\n",
      "o\n",
      ".\n",
      "c\n",
      "o\n",
      "m\n"
     ]
    }
   ],
   "source": [
    "for address in addresses:\n",
    "    print(address)"
   ]
  },
  {
   "cell_type": "code",
   "execution_count": 12,
   "id": "85906ada",
   "metadata": {},
   "outputs": [
    {
     "name": "stdout",
     "output_type": "stream",
     "text": [
      "For more details please mail us at: pqr@mno.com , pqr@mno.com\n"
     ]
    }
   ],
   "source": [
    "new_mail_address =  re.sub(r'([\\w\\.-]+@[\\w\\.-]+)', r'pqr@mno.com', doc)\n",
    "print(new_mail_address)"
   ]
  },
  {
   "cell_type": "code",
   "execution_count": null,
   "id": "0c3cd003",
   "metadata": {},
   "outputs": [],
   "source": []
  }
 ],
 "metadata": {
  "kernelspec": {
   "display_name": "Python 3 (ipykernel)",
   "language": "python",
   "name": "python3"
  },
  "language_info": {
   "codemirror_mode": {
    "name": "ipython",
    "version": 3
   },
   "file_extension": ".py",
   "mimetype": "text/x-python",
   "name": "python",
   "nbconvert_exporter": "python",
   "pygments_lexer": "ipython3",
   "version": "3.11.7"
  }
 },
 "nbformat": 4,
 "nbformat_minor": 5
}
