{
 "cells": [
  {
   "cell_type": "code",
   "execution_count": 1,
   "id": "f01e243e",
   "metadata": {},
   "outputs": [],
   "source": [
    "import nltk"
   ]
  },
  {
   "cell_type": "code",
   "execution_count": 2,
   "id": "05f69bfa",
   "metadata": {},
   "outputs": [
    {
     "name": "stdout",
     "output_type": "stream",
     "text": [
      "showing info https://raw.githubusercontent.com/nltk/nltk_data/gh-pages/index.xml\n"
     ]
    },
    {
     "data": {
      "text/plain": [
       "True"
      ]
     },
     "execution_count": 2,
     "metadata": {},
     "output_type": "execute_result"
    }
   ],
   "source": [
    "nltk.download()"
   ]
  },
  {
   "cell_type": "code",
   "execution_count": 4,
   "id": "1e1a1ede",
   "metadata": {},
   "outputs": [
    {
     "name": "stdout",
     "output_type": "stream",
     "text": [
      "\n",
      "\n",
      "Original Sentence \n",
      "\n",
      "\n",
      "He determined to drop his litigation with the monastry , and relinquish his claims to the wood-cutting and fishery rights at once . He was the more ready to do this because the rights had become much less valuable , and he had not indeed the vaguest idea where the wood and river in question were .\n",
      "\n",
      "\n",
      "Filtered Sentence \n",
      "\n",
      "\n",
      "He determined drop litigation monastry , relinquish claims wood-cutting fishery rights . He ready rights become much less valuable , indeed vaguest idea wood river question .\n"
     ]
    }
   ],
   "source": [
    "# importing libraries\n",
    "from nltk.corpus import stopwords\n",
    "from nltk.tokenize import word_tokenize\n",
    "\n",
    "# sample sentence\n",
    "text = \"\"\"He determined to drop his litigation with the monastry, and relinquish his claims to the wood-cutting \n",
    "    and fishery rights at once. He was the more ready to do this because the rights had become much less valuable,\n",
    "    and he had not indeed the vaguest idea where the wood and river in question were.\"\"\"\n",
    "\n",
    "# set of stop words\n",
    "stop_words = set(stopwords.words('english'))\n",
    "\n",
    "# tokens of words\n",
    "tokens = word_tokenize(text)\n",
    "\n",
    "filtered_sentence = []\n",
    "\n",
    "for w in tokens:  \n",
    "    if w not in stop_words:\n",
    "        filtered_sentence.append(w)\n",
    "\n",
    "print(\"\\n\\nOriginal Sentence \\n\\n\")\n",
    "print(\" \".join(tokens)) \n",
    "\n",
    "print(\"\\n\\nFiltered Sentence \\n\\n\")\n",
    "print(\" \".join(filtered_sentence))\n"
   ]
  },
  {
   "cell_type": "code",
   "execution_count": null,
   "id": "77509368",
   "metadata": {},
   "outputs": [],
   "source": []
  },
  {
   "cell_type": "code",
   "execution_count": 5,
   "id": "c7e5a4cc",
   "metadata": {},
   "outputs": [
    {
     "name": "stdout",
     "output_type": "stream",
     "text": [
      "\n",
      "\n",
      "Filtered Sentence\n",
      "\n",
      "\n",
      "He determined drop litigation monastry, relinquish claims wood-cutting fishery rights once. He ready rights valuable, vaguest idea wood river question were.\n"
     ]
    }
   ],
   "source": [
    "from gensim.parsing.preprocessing import remove_stopwords\n",
    "\n",
    "text = \"\"\"He determined to drop his litigation with the monastry, and relinquish his claims to the wood-cutting \n",
    "and fishery rights at once. He was the more ready to do this because the rights had become much less valuable, \n",
    "and he had indeed the vaguest idea where the wood and river in question were.\"\"\"\n",
    "\n",
    "result = remove_stopwords(text)\n",
    "\n",
    "print('\\n\\nFiltered Sentence\\n\\n')\n",
    "print(result)\n"
   ]
  },
  {
   "cell_type": "code",
   "execution_count": null,
   "id": "385e1a41",
   "metadata": {},
   "outputs": [],
   "source": []
  }
 ],
 "metadata": {
  "kernelspec": {
   "display_name": "Python 3 (ipykernel)",
   "language": "python",
   "name": "python3"
  },
  "language_info": {
   "codemirror_mode": {
    "name": "ipython",
    "version": 3
   },
   "file_extension": ".py",
   "mimetype": "text/x-python",
   "name": "python",
   "nbconvert_exporter": "python",
   "pygments_lexer": "ipython3",
   "version": "3.11.7"
  }
 },
 "nbformat": 4,
 "nbformat_minor": 5
}
