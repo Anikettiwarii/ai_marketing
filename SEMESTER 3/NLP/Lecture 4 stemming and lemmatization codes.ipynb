{
 "cells": [
  {
   "cell_type": "code",
   "execution_count": 2,
   "id": "4175da6d",
   "metadata": {},
   "outputs": [
    {
     "name": "stderr",
     "output_type": "stream",
     "text": [
      "[nltk_data] Downloading package stopwords to\n",
      "[nltk_data]     /Users/dhruviii/nltk_data...\n",
      "[nltk_data]   Unzipping corpora/stopwords.zip.\n",
      "[nltk_data] Downloading package punkt to /Users/dhruviii/nltk_data...\n",
      "[nltk_data]   Package punkt is already up-to-date!\n"
     ]
    }
   ],
   "source": [
    "import nltk\n",
    "nltk.download('stopwords')\n",
    "nltk.download('punkt')\n",
    "from nltk.corpus import stopwords\n",
    "from nltk.stem import PorterStemmer"
   ]
  },
  {
   "cell_type": "code",
   "execution_count": 5,
   "id": "a40ee1c0",
   "metadata": {},
   "outputs": [],
   "source": [
    "paragraph = '''\n",
    "    I have 3 visions for India. In 3000 years of our history, \n",
    "    people from all over the world have come and invaded us. \n",
    "    They have brought with them their cultures, beliefs, and practices, often imposing them upon us. \n",
    "    Despite these invasions, we have managed to preserve our identity and values. \n",
    "    Our nation has endured countless challenges and hardships, yet we have always emerged stronger. \n",
    "    This resilience is a testament to the strength of our spirit.\n",
    "    Moving forward, my vision is to see India as a place of unity, where people live in harmony, \n",
    "    embracing both our ancient heritage and modern advancements. \n",
    "    It is through this balance that we can achieve true progress and prosperity.'''"
   ]
  },
  {
   "cell_type": "code",
   "execution_count": 9,
   "id": "8d58418f",
   "metadata": {},
   "outputs": [
    {
     "ename": "IndentationError",
     "evalue": "unindent does not match any outer indentation level (<tokenize>, line 13)",
     "output_type": "error",
     "traceback": [
      "\u001b[0;36m  File \u001b[0;32m<tokenize>:13\u001b[0;36m\u001b[0m\n\u001b[0;31m    print(sentences)\u001b[0m\n\u001b[0m    ^\u001b[0m\n\u001b[0;31mIndentationError\u001b[0m\u001b[0;31m:\u001b[0m unindent does not match any outer indentation level\n"
     ]
    }
   ],
   "source": [
    "sentences = nltk.sent_tokenize(paragraph)\n",
    "print(sentences)\n",
    "\n",
    "print(\"\\n\\n Result after Stemming \\n\\n\")\n",
    "stemmer = nltk.PorterStemmer()\n",
    "# Stemming\n",
    "for i in range(len(sentences)):\n",
    "    words = nltk.words_tokenize(sentences[i])\n",
    "    words = stemmer.stem(word) for word in words if word not in\n",
    "    words = [Stemmer.stem(word) for word in words if word not in\n",
    "        set(stopwords.words('english'))]\n",
    "                sentences[i] = ' '.join(words)\n",
    "        print(sentences)"
   ]
  },
  {
   "cell_type": "code",
   "execution_count": 11,
   "id": "c0cfb141",
   "metadata": {},
   "outputs": [
    {
     "name": "stdout",
     "output_type": "stream",
     "text": [
      "['\\n    I have 3 visions for India.', 'In 3000 years of our history, \\n    people from all over the world have come and invaded us.', 'They have brought with them their cultures, beliefs, and practices, often imposing them upon us.', 'Despite these invasions, we have managed to preserve our identity and values.', 'Our nation has endured countless challenges and hardships, yet we have always emerged stronger.', 'This resilience is a testament to the strength of our spirit.', 'Moving forward, my vision is to see India as a place of unity, where people live in harmony, \\n    embracing both our ancient heritage and modern advancements.', 'It is through this balance that we can achieve true progress and prosperity.']\n",
      "\n",
      "\n",
      "Result after Stemming\n",
      "\n",
      "\n",
      "3 vision india .\n",
      "3000 year histori , peopl world come invad us .\n",
      "brought cultur , belief , practic , often impos upon us .\n",
      "despit invas , manag preserv ident valu .\n",
      "nation endur countless challeng hardship , yet alway emerg stronger .\n",
      "resili testament strength spirit .\n",
      "move forward , vision see india place uniti , peopl live harmoni , embrac ancient heritag modern advanc .\n",
      "balanc achiev true progress prosper .\n",
      "\n",
      "\n",
      "Final Stemmed Sentences\n",
      "\n",
      "\n",
      "['3 vision india .', '3000 year histori , peopl world come invad us .', 'brought cultur , belief , practic , often impos upon us .', 'despit invas , manag preserv ident valu .', 'nation endur countless challeng hardship , yet alway emerg stronger .', 'resili testament strength spirit .', 'move forward , vision see india place uniti , peopl live harmoni , embrac ancient heritag modern advanc .', 'balanc achiev true progress prosper .']\n"
     ]
    },
    {
     "name": "stderr",
     "output_type": "stream",
     "text": [
      "[nltk_data] Downloading package punkt to /Users/dhruviii/nltk_data...\n",
      "[nltk_data]   Package punkt is already up-to-date!\n",
      "[nltk_data] Downloading package stopwords to\n",
      "[nltk_data]     /Users/dhruviii/nltk_data...\n",
      "[nltk_data]   Package stopwords is already up-to-date!\n"
     ]
    }
   ],
   "source": [
    "import nltk\n",
    "from nltk.corpus import stopwords\n",
    "from nltk.stem import PorterStemmer\n",
    "\n",
    "# Initialize stopwords and stemmer\n",
    "nltk.download('punkt')\n",
    "nltk.download('stopwords')\n",
    "stop_words = set(stopwords.words('english'))\n",
    "stemmer = PorterStemmer()\n",
    "\n",
    "# Your paragraph\n",
    "paragraph = '''\n",
    "    I have 3 visions for India. In 3000 years of our history, \n",
    "    people from all over the world have come and invaded us. \n",
    "    They have brought with them their cultures, beliefs, and practices, often imposing them upon us. \n",
    "    Despite these invasions, we have managed to preserve our identity and values. \n",
    "    Our nation has endured countless challenges and hardships, yet we have always emerged stronger. \n",
    "    This resilience is a testament to the strength of our spirit.\n",
    "    Moving forward, my vision is to see India as a place of unity, where people live in harmony, \n",
    "    embracing both our ancient heritage and modern advancements. \n",
    "    It is through this balance that we can achieve true progress and prosperity.'''\n",
    "\n",
    "# Tokenize paragraph into sentences\n",
    "sentences = nltk.sent_tokenize(paragraph)\n",
    "print(sentences)\n",
    "\n",
    "print(\"\\n\\nResult after Stemming\\n\\n\")\n",
    "\n",
    "# Stemming each sentence\n",
    "for i in range(len(sentences)):\n",
    "    words = nltk.word_tokenize(sentences[i])  # Corrected function name\n",
    "    words = [stemmer.stem(word) for word in words if word.lower() not in stop_words]  # Fixed comprehension syntax\n",
    "    sentences[i] = ' '.join(words)\n",
    "    print(sentences[i])  # Moved print inside the loop to see each sentence after stemming\n",
    "\n",
    "# Final output\n",
    "print(\"\\n\\nFinal Stemmed Sentences\\n\\n\")\n",
    "print(sentences)\n"
   ]
  },
  {
   "cell_type": "code",
   "execution_count": null,
   "id": "8fb86096",
   "metadata": {},
   "outputs": [],
   "source": []
  }
 ],
 "metadata": {
  "kernelspec": {
   "display_name": "Python 3 (ipykernel)",
   "language": "python",
   "name": "python3"
  },
  "language_info": {
   "codemirror_mode": {
    "name": "ipython",
    "version": 3
   },
   "file_extension": ".py",
   "mimetype": "text/x-python",
   "name": "python",
   "nbconvert_exporter": "python",
   "pygments_lexer": "ipython3",
   "version": "3.11.7"
  }
 },
 "nbformat": 4,
 "nbformat_minor": 5
}
