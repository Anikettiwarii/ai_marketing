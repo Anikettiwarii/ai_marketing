{
 "cells": [
  {
   "cell_type": "code",
   "execution_count": 7,
   "metadata": {},
   "outputs": [],
   "source": [
    "import pandas as pd \n",
    "import numpy as np \n",
    "import matplotlib.pyplot as plt "
   ]
  },
  {
   "cell_type": "code",
   "execution_count": 3,
   "metadata": {},
   "outputs": [
    {
     "name": "stdout",
     "output_type": "stream",
     "text": [
      "Collecting pandas\n",
      "  Downloading pandas-2.2.2-cp312-cp312-win_amd64.whl.metadata (19 kB)\n",
      "Collecting numpy>=1.26.0 (from pandas)\n",
      "  Downloading numpy-2.1.1-cp312-cp312-win_amd64.whl.metadata (59 kB)\n",
      "Requirement already satisfied: python-dateutil>=2.8.2 in c:\\users\\kirta\\onedrive\\desktop\\ai_marketing\\aienv\\lib\\site-packages (from pandas) (2.9.0.post0)\n",
      "Collecting pytz>=2020.1 (from pandas)\n",
      "  Downloading pytz-2024.2-py2.py3-none-any.whl.metadata (22 kB)\n",
      "Collecting tzdata>=2022.7 (from pandas)\n",
      "  Downloading tzdata-2024.1-py2.py3-none-any.whl.metadata (1.4 kB)\n",
      "Requirement already satisfied: six>=1.5 in c:\\users\\kirta\\onedrive\\desktop\\ai_marketing\\aienv\\lib\\site-packages (from python-dateutil>=2.8.2->pandas) (1.16.0)\n",
      "Downloading pandas-2.2.2-cp312-cp312-win_amd64.whl (11.5 MB)\n",
      "   ---------------------------------------- 0.0/11.5 MB ? eta -:--:--\n",
      "   ---------------------------------------- 0.0/11.5 MB ? eta -:--:--\n",
      "   -- ------------------------------------- 0.8/11.5 MB 3.0 MB/s eta 0:00:04\n",
      "   ---- ----------------------------------- 1.3/11.5 MB 2.8 MB/s eta 0:00:04\n",
      "   ------ --------------------------------- 1.8/11.5 MB 2.9 MB/s eta 0:00:04\n",
      "   --------- ------------------------------ 2.6/11.5 MB 2.9 MB/s eta 0:00:04\n",
      "   ---------- ----------------------------- 3.1/11.5 MB 3.0 MB/s eta 0:00:03\n",
      "   ------------ --------------------------- 3.7/11.5 MB 2.8 MB/s eta 0:00:03\n",
      "   ------------ --------------------------- 3.7/11.5 MB 2.8 MB/s eta 0:00:03\n",
      "   ------------- -------------------------- 3.9/11.5 MB 2.4 MB/s eta 0:00:04\n",
      "   -------------- ------------------------- 4.2/11.5 MB 2.2 MB/s eta 0:00:04\n",
      "   ---------------- ----------------------- 4.7/11.5 MB 2.2 MB/s eta 0:00:04\n",
      "   ----------------- ---------------------- 5.0/11.5 MB 2.2 MB/s eta 0:00:04\n",
      "   ------------------ --------------------- 5.2/11.5 MB 2.1 MB/s eta 0:00:03\n",
      "   ------------------- -------------------- 5.5/11.5 MB 2.0 MB/s eta 0:00:03\n",
      "   -------------------- ------------------- 5.8/11.5 MB 2.0 MB/s eta 0:00:03\n",
      "   --------------------- ------------------ 6.3/11.5 MB 2.0 MB/s eta 0:00:03\n",
      "   ---------------------- ----------------- 6.6/11.5 MB 1.9 MB/s eta 0:00:03\n",
      "   ----------------------- ---------------- 6.8/11.5 MB 1.9 MB/s eta 0:00:03\n",
      "   ------------------------ --------------- 7.1/11.5 MB 1.9 MB/s eta 0:00:03\n",
      "   -------------------------- ------------- 7.6/11.5 MB 1.9 MB/s eta 0:00:03\n",
      "   --------------------------- ------------ 7.9/11.5 MB 1.9 MB/s eta 0:00:02\n",
      "   ----------------------------- ---------- 8.4/11.5 MB 1.9 MB/s eta 0:00:02\n",
      "   ------------------------------ --------- 8.7/11.5 MB 1.9 MB/s eta 0:00:02\n",
      "   ------------------------------- -------- 8.9/11.5 MB 1.9 MB/s eta 0:00:02\n",
      "   -------------------------------- ------- 9.4/11.5 MB 1.9 MB/s eta 0:00:02\n",
      "   --------------------------------- ------ 9.7/11.5 MB 1.9 MB/s eta 0:00:01\n",
      "   ----------------------------------- ---- 10.2/11.5 MB 1.9 MB/s eta 0:00:01\n",
      "   ------------------------------------ --- 10.5/11.5 MB 1.9 MB/s eta 0:00:01\n",
      "   -------------------------------------- - 11.0/11.5 MB 1.8 MB/s eta 0:00:01\n",
      "   ---------------------------------------  11.3/11.5 MB 1.8 MB/s eta 0:00:01\n",
      "   ---------------------------------------- 11.5/11.5 MB 1.8 MB/s eta 0:00:00\n",
      "Downloading numpy-2.1.1-cp312-cp312-win_amd64.whl (12.6 MB)\n",
      "   ---------------------------------------- 0.0/12.6 MB ? eta -:--:--\n",
      "    --------------------------------------- 0.3/12.6 MB ? eta -:--:--\n",
      "   - -------------------------------------- 0.5/12.6 MB 1.5 MB/s eta 0:00:08\n",
      "   -- ------------------------------------- 0.8/12.6 MB 1.2 MB/s eta 0:00:10\n",
      "   ---- ----------------------------------- 1.3/12.6 MB 1.6 MB/s eta 0:00:08\n",
      "   ---- ----------------------------------- 1.3/12.6 MB 1.6 MB/s eta 0:00:08\n",
      "   ----- ---------------------------------- 1.6/12.6 MB 1.4 MB/s eta 0:00:08\n",
      "   ------ --------------------------------- 2.1/12.6 MB 1.5 MB/s eta 0:00:08\n",
      "   ------- -------------------------------- 2.4/12.6 MB 1.5 MB/s eta 0:00:07\n",
      "   -------- ------------------------------- 2.6/12.6 MB 1.5 MB/s eta 0:00:07\n",
      "   ---------- ----------------------------- 3.1/12.6 MB 1.5 MB/s eta 0:00:07\n",
      "   ---------- ----------------------------- 3.4/12.6 MB 1.5 MB/s eta 0:00:06\n",
      "   ------------ --------------------------- 3.9/12.6 MB 1.6 MB/s eta 0:00:06\n",
      "   ------------- -------------------------- 4.2/12.6 MB 1.6 MB/s eta 0:00:06\n",
      "   --------------- ------------------------ 4.7/12.6 MB 1.6 MB/s eta 0:00:05\n",
      "   ---------------- ----------------------- 5.2/12.6 MB 1.7 MB/s eta 0:00:05\n",
      "   ------------------ --------------------- 5.8/12.6 MB 1.7 MB/s eta 0:00:04\n",
      "   ------------------- -------------------- 6.0/12.6 MB 1.7 MB/s eta 0:00:04\n",
      "   -------------------- ------------------- 6.6/12.6 MB 1.8 MB/s eta 0:00:04\n",
      "   --------------------- ------------------ 6.8/12.6 MB 1.7 MB/s eta 0:00:04\n",
      "   ---------------------- ----------------- 7.1/12.6 MB 1.7 MB/s eta 0:00:04\n",
      "   ----------------------- ---------------- 7.3/12.6 MB 1.7 MB/s eta 0:00:04\n",
      "   ------------------------- -------------- 7.9/12.6 MB 1.7 MB/s eta 0:00:03\n",
      "   ------------------------- -------------- 8.1/12.6 MB 1.7 MB/s eta 0:00:03\n",
      "   --------------------------- ------------ 8.7/12.6 MB 1.7 MB/s eta 0:00:03\n",
      "   ----------------------------- ---------- 9.2/12.6 MB 1.8 MB/s eta 0:00:02\n",
      "   ------------------------------ --------- 9.7/12.6 MB 1.8 MB/s eta 0:00:02\n",
      "   -------------------------------- ------- 10.2/12.6 MB 1.8 MB/s eta 0:00:02\n",
      "   --------------------------------- ------ 10.5/12.6 MB 1.8 MB/s eta 0:00:02\n",
      "   --------------------------------- ------ 10.5/12.6 MB 1.8 MB/s eta 0:00:02\n",
      "   ---------------------------------- ----- 10.7/12.6 MB 1.8 MB/s eta 0:00:02\n",
      "   ----------------------------------- ---- 11.3/12.6 MB 1.8 MB/s eta 0:00:01\n",
      "   ------------------------------------ --- 11.5/12.6 MB 1.8 MB/s eta 0:00:01\n",
      "   -------------------------------------- - 12.1/12.6 MB 1.8 MB/s eta 0:00:01\n",
      "   ---------------------------------------  12.3/12.6 MB 1.8 MB/s eta 0:00:01\n",
      "   ---------------------------------------- 12.6/12.6 MB 1.8 MB/s eta 0:00:00\n",
      "Downloading pytz-2024.2-py2.py3-none-any.whl (508 kB)\n",
      "Downloading tzdata-2024.1-py2.py3-none-any.whl (345 kB)\n",
      "Installing collected packages: pytz, tzdata, numpy, pandas\n",
      "Successfully installed numpy-2.1.1 pandas-2.2.2 pytz-2024.2 tzdata-2024.1\n",
      "Note: you may need to restart the kernel to use updated packages.\n"
     ]
    }
   ],
   "source": [
    "pip install pandas"
   ]
  },
  {
   "cell_type": "code",
   "execution_count": 4,
   "metadata": {},
   "outputs": [
    {
     "name": "stdout",
     "output_type": "stream",
     "text": [
      "Requirement already satisfied: numpy in c:\\users\\kirta\\onedrive\\desktop\\ai_marketing\\aienv\\lib\\site-packages (2.1.1)\n",
      "Note: you may need to restart the kernel to use updated packages.\n"
     ]
    }
   ],
   "source": [
    "pip install numpy\n"
   ]
  },
  {
   "cell_type": "code",
   "execution_count": 6,
   "metadata": {},
   "outputs": [
    {
     "name": "stdout",
     "output_type": "stream",
     "text": [
      "Collecting matplotlib\n",
      "  Downloading matplotlib-3.9.2-cp312-cp312-win_amd64.whl.metadata (11 kB)\n",
      "Collecting contourpy>=1.0.1 (from matplotlib)\n",
      "  Downloading contourpy-1.3.0-cp312-cp312-win_amd64.whl.metadata (5.4 kB)\n",
      "Collecting cycler>=0.10 (from matplotlib)\n",
      "  Downloading cycler-0.12.1-py3-none-any.whl.metadata (3.8 kB)\n",
      "Collecting fonttools>=4.22.0 (from matplotlib)\n",
      "  Downloading fonttools-4.53.1-cp312-cp312-win_amd64.whl.metadata (165 kB)\n",
      "Collecting kiwisolver>=1.3.1 (from matplotlib)\n",
      "  Downloading kiwisolver-1.4.7-cp312-cp312-win_amd64.whl.metadata (6.4 kB)\n",
      "Requirement already satisfied: numpy>=1.23 in c:\\users\\kirta\\onedrive\\desktop\\ai_marketing\\aienv\\lib\\site-packages (from matplotlib) (2.1.1)\n",
      "Requirement already satisfied: packaging>=20.0 in c:\\users\\kirta\\onedrive\\desktop\\ai_marketing\\aienv\\lib\\site-packages (from matplotlib) (24.1)\n",
      "Collecting pillow>=8 (from matplotlib)\n",
      "  Downloading pillow-10.4.0-cp312-cp312-win_amd64.whl.metadata (9.3 kB)\n",
      "Collecting pyparsing>=2.3.1 (from matplotlib)\n",
      "  Downloading pyparsing-3.1.4-py3-none-any.whl.metadata (5.1 kB)\n",
      "Requirement already satisfied: python-dateutil>=2.7 in c:\\users\\kirta\\onedrive\\desktop\\ai_marketing\\aienv\\lib\\site-packages (from matplotlib) (2.9.0.post0)\n",
      "Requirement already satisfied: six>=1.5 in c:\\users\\kirta\\onedrive\\desktop\\ai_marketing\\aienv\\lib\\site-packages (from python-dateutil>=2.7->matplotlib) (1.16.0)\n",
      "Downloading matplotlib-3.9.2-cp312-cp312-win_amd64.whl (7.8 MB)\n",
      "   ---------------------------------------- 0.0/7.8 MB ? eta -:--:--\n",
      "   -- ------------------------------------- 0.5/7.8 MB 2.8 MB/s eta 0:00:03\n",
      "   --------- ------------------------------ 1.8/7.8 MB 4.8 MB/s eta 0:00:02\n",
      "   ------------------ --------------------- 3.7/7.8 MB 6.2 MB/s eta 0:00:01\n",
      "   ------------------------- -------------- 5.0/7.8 MB 6.2 MB/s eta 0:00:01\n",
      "   ---------------------------------- ----- 6.8/7.8 MB 6.9 MB/s eta 0:00:01\n",
      "   ---------------------------------------- 7.8/7.8 MB 6.8 MB/s eta 0:00:00\n",
      "Downloading contourpy-1.3.0-cp312-cp312-win_amd64.whl (218 kB)\n",
      "Downloading cycler-0.12.1-py3-none-any.whl (8.3 kB)\n",
      "Downloading fonttools-4.53.1-cp312-cp312-win_amd64.whl (2.2 MB)\n",
      "   ---------------------------------------- 0.0/2.2 MB ? eta -:--:--\n",
      "   ----------------------- ---------------- 1.3/2.2 MB 8.4 MB/s eta 0:00:01\n",
      "   ---------------------------------------- 2.2/2.2 MB 8.3 MB/s eta 0:00:00\n",
      "Downloading kiwisolver-1.4.7-cp312-cp312-win_amd64.whl (55 kB)\n",
      "Downloading pillow-10.4.0-cp312-cp312-win_amd64.whl (2.6 MB)\n",
      "   ---------------------------------------- 0.0/2.6 MB ? eta -:--:--\n",
      "   ---------------------------- ----------- 1.8/2.6 MB 9.1 MB/s eta 0:00:01\n",
      "   ---------------------------------------- 2.6/2.6 MB 8.6 MB/s eta 0:00:00\n",
      "Downloading pyparsing-3.1.4-py3-none-any.whl (104 kB)\n",
      "Installing collected packages: pyparsing, pillow, kiwisolver, fonttools, cycler, contourpy, matplotlib\n",
      "Successfully installed contourpy-1.3.0 cycler-0.12.1 fonttools-4.53.1 kiwisolver-1.4.7 matplotlib-3.9.2 pillow-10.4.0 pyparsing-3.1.4\n",
      "Note: you may need to restart the kernel to use updated packages.\n"
     ]
    }
   ],
   "source": [
    "pip install matplotlib"
   ]
  },
  {
   "cell_type": "code",
   "execution_count": null,
   "metadata": {},
   "outputs": [],
   "source": []
  }
 ],
 "metadata": {
  "kernelspec": {
   "display_name": "aienv",
   "language": "python",
   "name": "python3"
  },
  "language_info": {
   "codemirror_mode": {
    "name": "ipython",
    "version": 3
   },
   "file_extension": ".py",
   "mimetype": "text/x-python",
   "name": "python",
   "nbconvert_exporter": "python",
   "pygments_lexer": "ipython3",
   "version": "3.12.6"
  }
 },
 "nbformat": 4,
 "nbformat_minor": 2
}
