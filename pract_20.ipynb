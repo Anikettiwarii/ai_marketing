{
 "cells": [
  {
   "cell_type": "markdown",
   "metadata": {},
   "source": [
    "### 1. Installing Required Packages"
   ]
  },
  {
   "cell_type": "code",
   "execution_count": 1,
   "metadata": {},
   "outputs": [],
   "source": [
    "import pandas as pd\n",
    "import numpy as np\n",
    "import matplotlib.pyplot as plt # for graph plots\n",
    "from sklearn.linear_model import LinearRegression\n",
    "from sklearn.preprocessing import LabelEncoder\n",
    "import statsmodels.api as sm"
   ]
  },
  {
   "cell_type": "markdown",
   "metadata": {},
   "source": [
    "### 2. Importing Dataset"
   ]
  },
  {
   "cell_type": "code",
   "execution_count": 12,
   "metadata": {},
   "outputs": [
    {
     "name": "stderr",
     "output_type": "stream",
     "text": [
      "<>:1: SyntaxWarning: invalid escape sequence '\\A'\n",
      "<>:1: SyntaxWarning: invalid escape sequence '\\A'\n",
      "C:\\Users\\hp\\AppData\\Local\\Temp\\ipykernel_11236\\331633029.py:1: SyntaxWarning: invalid escape sequence '\\A'\n",
      "  df = pd.read_csv('D:\\AI Marketing\\dataset_pizza_data.csv')\n"
     ]
    }
   ],
   "source": [
    "df = pd.read_csv('D:\\AI Marketing\\dataset_pizza_data.csv')"
   ]
  },
  {
   "cell_type": "code",
   "execution_count": 13,
   "metadata": {},
   "outputs": [
    {
     "name": "stdout",
     "output_type": "stream",
     "text": [
      "       brand  price weight  crust      cheese     size  toppings   spicy  \\\n",
      "0    Dominos  $1.00   100g   thin  Mozzarella  regular    paneer  normal   \n",
      "1  Pizza hut  $3.00   100g   thin     Cheddar    large  mushroom  normal   \n",
      "2     Onesta  $4.00   200g   thin  Mozzarella  regular  mushroom  normal   \n",
      "3  Pizza hut  $4.00   400g  thick     Cheddar  regular    paneer  normal   \n",
      "4  Pizza hut  $2.00   300g   thin  Mozzarella  regular  mushroom   extra   \n",
      "\n",
      "   ranking  \n",
      "0       11  \n",
      "1       12  \n",
      "2        9  \n",
      "3        2  \n",
      "4        8  \n"
     ]
    }
   ],
   "source": [
    "# Display first few rows\n",
    "print(df.head()) "
   ]
  },
  {
   "cell_type": "code",
   "execution_count": 14,
   "metadata": {},
   "outputs": [],
   "source": [
    "# Encode categorical variables using LabelEncoder\n",
    "encoder = LabelEncoder()"
   ]
  },
  {
   "cell_type": "code",
   "execution_count": 15,
   "metadata": {},
   "outputs": [],
   "source": [
    "# Make a copy of the original data and convert categorical columns into numeric values\n",
    "pizza_data_encoded = df.copy()\n",
    "for column in ['brand', 'price', 'weight', 'crust', 'cheese', 'size', 'toppings', 'spicy']:\n",
    "    pizza_data_encoded[column] = encoder.fit_transform(df[column])\n"
   ]
  },
  {
   "cell_type": "code",
   "execution_count": 16,
   "metadata": {},
   "outputs": [],
   "source": [
    "# Define independent variables (attributes) and the dependent variable (ranking)\n",
    "X = pizza_data_encoded[['brand', 'price', 'weight', 'crust', 'cheese', 'size', 'toppings', 'spicy']]\n",
    "y = pizza_data_encoded['ranking']\n"
   ]
  },
  {
   "cell_type": "code",
   "execution_count": 17,
   "metadata": {},
   "outputs": [],
   "source": [
    "# Add a constant term to the model (for intercept)\n",
    "X = sm.add_constant(X)\n"
   ]
  },
  {
   "cell_type": "code",
   "execution_count": 18,
   "metadata": {},
   "outputs": [],
   "source": [
    "# Perform Ordinary Least Squares (OLS) regression for conjoint analysis\n",
    "model = sm.OLS(y, X).fit()\n"
   ]
  },
  {
   "cell_type": "code",
   "execution_count": 19,
   "metadata": {},
   "outputs": [
    {
     "name": "stdout",
     "output_type": "stream",
     "text": [
      "                            OLS Regression Results                            \n",
      "==============================================================================\n",
      "Dep. Variable:                ranking   R-squared:                       0.989\n",
      "Model:                            OLS   Adj. R-squared:                  0.977\n",
      "Method:                 Least Squares   F-statistic:                     81.76\n",
      "Date:                Mon, 30 Sep 2024   Prob (F-statistic):           3.19e-06\n",
      "Time:                        12:24:53   Log-Likelihood:                -10.770\n",
      "No. Observations:                  16   AIC:                             39.54\n",
      "Df Residuals:                       7   BIC:                             46.49\n",
      "Df Model:                           8                                         \n",
      "Covariance Type:            nonrobust                                         \n",
      "==============================================================================\n",
      "                 coef    std err          t      P>|t|      [0.025      0.975]\n",
      "------------------------------------------------------------------------------\n",
      "const         17.5500      0.605     28.992      0.000      16.119      18.981\n",
      "brand          0.0500      0.160      0.312      0.764      -0.329       0.429\n",
      "price         -0.4500      0.160     -2.806      0.026      -0.829      -0.071\n",
      "weight        -3.5500      0.160    -22.138      0.000      -3.929      -3.171\n",
      "crust         -3.5000      0.359     -9.761      0.000      -4.348      -2.652\n",
      "cheese         0.5000      0.359      1.394      0.206      -0.348       1.348\n",
      "size           0.5000      0.359      1.394      0.206      -0.348       1.348\n",
      "toppings      -2.2500      0.359     -6.275      0.000      -3.098      -1.402\n",
      "spicy         -1.5000      0.359     -4.183      0.004      -2.348      -0.652\n",
      "==============================================================================\n",
      "Omnibus:                        6.427   Durbin-Watson:                   1.387\n",
      "Prob(Omnibus):                  0.040   Jarque-Bera (JB):                1.576\n",
      "Skew:                           0.009   Prob(JB):                        0.455\n",
      "Kurtosis:                       1.463   Cond. No.                         11.7\n",
      "==============================================================================\n",
      "\n",
      "Notes:\n",
      "[1] Standard Errors assume that the covariance matrix of the errors is correctly specified.\n"
     ]
    },
    {
     "name": "stderr",
     "output_type": "stream",
     "text": [
      "d:\\AI Marketing\\aimar\\Lib\\site-packages\\scipy\\stats\\_axis_nan_policy.py:418: UserWarning: `kurtosistest` p-value may be inaccurate with fewer than 20 observations; only n=16 observations were given.\n",
      "  return hypotest_fun_in(*args, **kwds)\n"
     ]
    }
   ],
   "source": [
    "print(model.summary())"
   ]
  },
  {
   "cell_type": "code",
   "execution_count": 21,
   "metadata": {},
   "outputs": [],
   "source": [
    "\n",
    "# Analyzing the best combination based on significant variables\n",
    "# The most preferred combination based on regression:\n",
    "best_combination = {\n",
    "    'brand': 'Any brand (no significant impact)',\n",
    "    'price': 'Lower prices are preferred',\n",
    "    'weight': 'Lighter pizzas are preferred (e.g., 100g or 200g)',\n",
    "    'crust': 'Thin crust is preferred',\n",
    "    'cheese': 'Any cheese (no significant impact)',\n",
    "    'size': 'Any size (no significant impact)',\n",
    "    'toppings': 'Avoid too many toppings, simpler is better (paneer is preferred)',\n",
    "    'spicy': 'Normal spiciness is preferred over extra spicy'\n",
    "}\n"
   ]
  },
  {
   "cell_type": "code",
   "execution_count": 23,
   "metadata": {},
   "outputs": [
    {
     "name": "stdout",
     "output_type": "stream",
     "text": [
      "Best Combination:\n",
      "brand: Any brand (no significant impact)\n",
      "price: Lower prices are preferred\n",
      "weight: Lighter pizzas are preferred (e.g., 100g or 200g)\n",
      "crust: Thin crust is preferred\n",
      "cheese: Any cheese (no significant impact)\n",
      "size: Any size (no significant impact)\n",
      "toppings: Avoid too many toppings, simpler is better (paneer is preferred)\n",
      "spicy: Normal spiciness is preferred over extra spicy\n"
     ]
    }
   ],
   "source": [
    "print(\"Best Combination:\")\n",
    "for key, value in best_combination.items():\n",
    "    print(f\"{key}: {value}\")"
   ]
  }
 ],
 "metadata": {
  "kernelspec": {
   "display_name": "aimar",
   "language": "python",
   "name": "python3"
  },
  "language_info": {
   "codemirror_mode": {
    "name": "ipython",
    "version": 3
   },
   "file_extension": ".py",
   "mimetype": "text/x-python",
   "name": "python",
   "nbconvert_exporter": "python",
   "pygments_lexer": "ipython3",
   "version": "3.12.6"
  }
 },
 "nbformat": 4,
 "nbformat_minor": 2
}
