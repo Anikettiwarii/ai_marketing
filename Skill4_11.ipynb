{
 "cells": [
  {
   "cell_type": "code",
   "execution_count": null,
   "id": "d736dfdb",
   "metadata": {},
   "outputs": [],
   "source": [
    "# Kirtan Panchal\n",
    "# 2301208011"
   ]
  },
  {
   "cell_type": "code",
   "execution_count": 9,
   "id": "41ba69df",
   "metadata": {},
   "outputs": [
    {
     "name": "stdout",
     "output_type": "stream",
     "text": [
      "C:\\Users\\kirta\\Downloads\\Skill 4 PDF File.pdf\n",
      "Extraction completed and saved to CSV.\n"
     ]
    }
   ],
   "source": [
    "import fitz  # PyMuPDF for PDF handling\n",
    "import csv\n",
    "import os\n",
    "import pdfplumber\n",
    "\n",
    "def extract_pdf_data(pdf_path):\n",
    "    text_data = []\n",
    "    images = []\n",
    "    tables = []\n",
    "    links = []\n",
    "\n",
    "    # Open the PDF file using fitz (PyMuPDF)\n",
    "    doc = fitz.open(pdf_path)\n",
    "\n",
    "    for page_number in range(len(doc)):\n",
    "        page = doc.load_page(page_number)\n",
    "\n",
    "        # Extract text\n",
    "        text_data.append(page.get_text())\n",
    "\n",
    "        # Extract images\n",
    "        page_images = []\n",
    "        image_list = page.get_images(full=True)\n",
    "        for img_index, img in enumerate(image_list):\n",
    "            xref = img[0]\n",
    "            base_image = doc.extract_image(xref)\n",
    "            image_bytes = base_image[\"image\"]\n",
    "            image_path = f\"image_{page_number + 1}_{img_index + 1}.png\"\n",
    "            with open(image_path, 'wb') as img_file:\n",
    "                img_file.write(image_bytes)\n",
    "            page_images.append(image_path)\n",
    "        images.append(page_images)\n",
    "\n",
    "    # Extract tables using pdfplumber\n",
    "    with pdfplumber.open(pdf_path) as pdf:\n",
    "        for page_number in range(len(pdf.pages)):\n",
    "            page_plumber = pdf.pages[page_number]\n",
    "            table = page_plumber.extract_tables()\n",
    "            tables.append(table)\n",
    "\n",
    "    # Extract hyperlinks\n",
    "    for page_number in range(len(doc)):\n",
    "        page = doc.load_page(page_number)\n",
    "        links_on_page = []\n",
    "        for link in page.get_links():\n",
    "            if 'uri' in link:\n",
    "                links_on_page.append(link['uri'])\n",
    "        links.append(links_on_page)\n",
    "\n",
    "    return text_data, images, tables, links\n",
    "\n",
    "def save_to_csv(text_data, images, tables, links, output_csv):\n",
    "    with open(output_csv, 'w', newline='', encoding='utf-8') as file:\n",
    "        writer = csv.writer(file)\n",
    "        writer.writerow([\"Textual Content\", \"Images\", \"Table Content\", \"Links\"])\n",
    "\n",
    "        for i in range(len(text_data)):\n",
    "            writer.writerow([\n",
    "                text_data[i],\n",
    "                \"; \".join(images[i]) if images[i] else \"\",\n",
    "                str(tables[i]) if tables[i] else \"\",\n",
    "                \"; \".join(links[i]) if links[i] else \"\"\n",
    "            ])\n",
    "\n",
    "# Path to your PDF file (Windows format)\n",
    "pdf_file_path = r'C:\\Users\\kirta\\Downloads\\Skill 4 PDF File.pdf'\n",
    "\n",
    "print(pdf_file_path)\n",
    "output_csv = r'C:\\Users\\kirta\\Downloads\\output.csv'\n",
    "\n",
    "# Check if the PDF file exists\n",
    "if not os.path.exists(pdf_file_path):\n",
    "    print(\"The file path is incorrect or the file does not exist.\")\n",
    "else:\n",
    "    # Extract data from the PDF\n",
    "    text_data, images, tables, links = extract_pdf_data(pdf_file_path)\n",
    "\n",
    "    # Save the extracted data to a CSV file\n",
    "    save_to_csv(text_data, images, tables, links, output_csv)\n",
    "\n",
    "    print(\"Extraction completed and saved to CSV.\")\n"
   ]
  },
  {
   "cell_type": "code",
   "execution_count": null,
   "id": "2ced89a7",
   "metadata": {},
   "outputs": [],
   "source": []
  }
 ],
 "metadata": {
  "kernelspec": {
   "display_name": "aienv",
   "language": "python",
   "name": "python3"
  },
  "language_info": {
   "codemirror_mode": {
    "name": "ipython",
    "version": 3
   },
   "file_extension": ".py",
   "mimetype": "text/x-python",
   "name": "python",
   "nbconvert_exporter": "python",
   "pygments_lexer": "ipython3",
   "version": "3.12.7"
  }
 },
 "nbformat": 4,
 "nbformat_minor": 5
}
